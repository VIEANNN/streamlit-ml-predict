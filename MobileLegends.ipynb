{
  "nbformat": 4,
  "nbformat_minor": 0,
  "metadata": {
    "colab": {
      "provenance": []
    },
    "kernelspec": {
      "name": "python3",
      "display_name": "Python 3"
    },
    "language_info": {
      "name": "python"
    }
  },
  "cells": [
    {
      "cell_type": "code",
      "execution_count": 45,
      "metadata": {
        "colab": {
          "base_uri": "https://localhost:8080/",
          "height": 195
        },
        "id": "oWEa0oXW2xSV",
        "outputId": "5e2291cb-8e18-4e04-92c0-509a278a531e"
      },
      "outputs": [
        {
          "output_type": "display_data",
          "data": {
            "text/plain": [
              "<IPython.core.display.HTML object>"
            ],
            "text/html": [
              "\n",
              "     <input type=\"file\" id=\"files-1e049050-7f0d-499e-9e58-b126387d1eb6\" name=\"files[]\" multiple disabled\n",
              "        style=\"border:none\" />\n",
              "     <output id=\"result-1e049050-7f0d-499e-9e58-b126387d1eb6\">\n",
              "      Upload widget is only available when the cell has been executed in the\n",
              "      current browser session. Please rerun this cell to enable.\n",
              "      </output>\n",
              "      <script>// Copyright 2017 Google LLC\n",
              "//\n",
              "// Licensed under the Apache License, Version 2.0 (the \"License\");\n",
              "// you may not use this file except in compliance with the License.\n",
              "// You may obtain a copy of the License at\n",
              "//\n",
              "//      http://www.apache.org/licenses/LICENSE-2.0\n",
              "//\n",
              "// Unless required by applicable law or agreed to in writing, software\n",
              "// distributed under the License is distributed on an \"AS IS\" BASIS,\n",
              "// WITHOUT WARRANTIES OR CONDITIONS OF ANY KIND, either express or implied.\n",
              "// See the License for the specific language governing permissions and\n",
              "// limitations under the License.\n",
              "\n",
              "/**\n",
              " * @fileoverview Helpers for google.colab Python module.\n",
              " */\n",
              "(function(scope) {\n",
              "function span(text, styleAttributes = {}) {\n",
              "  const element = document.createElement('span');\n",
              "  element.textContent = text;\n",
              "  for (const key of Object.keys(styleAttributes)) {\n",
              "    element.style[key] = styleAttributes[key];\n",
              "  }\n",
              "  return element;\n",
              "}\n",
              "\n",
              "// Max number of bytes which will be uploaded at a time.\n",
              "const MAX_PAYLOAD_SIZE = 100 * 1024;\n",
              "\n",
              "function _uploadFiles(inputId, outputId) {\n",
              "  const steps = uploadFilesStep(inputId, outputId);\n",
              "  const outputElement = document.getElementById(outputId);\n",
              "  // Cache steps on the outputElement to make it available for the next call\n",
              "  // to uploadFilesContinue from Python.\n",
              "  outputElement.steps = steps;\n",
              "\n",
              "  return _uploadFilesContinue(outputId);\n",
              "}\n",
              "\n",
              "// This is roughly an async generator (not supported in the browser yet),\n",
              "// where there are multiple asynchronous steps and the Python side is going\n",
              "// to poll for completion of each step.\n",
              "// This uses a Promise to block the python side on completion of each step,\n",
              "// then passes the result of the previous step as the input to the next step.\n",
              "function _uploadFilesContinue(outputId) {\n",
              "  const outputElement = document.getElementById(outputId);\n",
              "  const steps = outputElement.steps;\n",
              "\n",
              "  const next = steps.next(outputElement.lastPromiseValue);\n",
              "  return Promise.resolve(next.value.promise).then((value) => {\n",
              "    // Cache the last promise value to make it available to the next\n",
              "    // step of the generator.\n",
              "    outputElement.lastPromiseValue = value;\n",
              "    return next.value.response;\n",
              "  });\n",
              "}\n",
              "\n",
              "/**\n",
              " * Generator function which is called between each async step of the upload\n",
              " * process.\n",
              " * @param {string} inputId Element ID of the input file picker element.\n",
              " * @param {string} outputId Element ID of the output display.\n",
              " * @return {!Iterable<!Object>} Iterable of next steps.\n",
              " */\n",
              "function* uploadFilesStep(inputId, outputId) {\n",
              "  const inputElement = document.getElementById(inputId);\n",
              "  inputElement.disabled = false;\n",
              "\n",
              "  const outputElement = document.getElementById(outputId);\n",
              "  outputElement.innerHTML = '';\n",
              "\n",
              "  const pickedPromise = new Promise((resolve) => {\n",
              "    inputElement.addEventListener('change', (e) => {\n",
              "      resolve(e.target.files);\n",
              "    });\n",
              "  });\n",
              "\n",
              "  const cancel = document.createElement('button');\n",
              "  inputElement.parentElement.appendChild(cancel);\n",
              "  cancel.textContent = 'Cancel upload';\n",
              "  const cancelPromise = new Promise((resolve) => {\n",
              "    cancel.onclick = () => {\n",
              "      resolve(null);\n",
              "    };\n",
              "  });\n",
              "\n",
              "  // Wait for the user to pick the files.\n",
              "  const files = yield {\n",
              "    promise: Promise.race([pickedPromise, cancelPromise]),\n",
              "    response: {\n",
              "      action: 'starting',\n",
              "    }\n",
              "  };\n",
              "\n",
              "  cancel.remove();\n",
              "\n",
              "  // Disable the input element since further picks are not allowed.\n",
              "  inputElement.disabled = true;\n",
              "\n",
              "  if (!files) {\n",
              "    return {\n",
              "      response: {\n",
              "        action: 'complete',\n",
              "      }\n",
              "    };\n",
              "  }\n",
              "\n",
              "  for (const file of files) {\n",
              "    const li = document.createElement('li');\n",
              "    li.append(span(file.name, {fontWeight: 'bold'}));\n",
              "    li.append(span(\n",
              "        `(${file.type || 'n/a'}) - ${file.size} bytes, ` +\n",
              "        `last modified: ${\n",
              "            file.lastModifiedDate ? file.lastModifiedDate.toLocaleDateString() :\n",
              "                                    'n/a'} - `));\n",
              "    const percent = span('0% done');\n",
              "    li.appendChild(percent);\n",
              "\n",
              "    outputElement.appendChild(li);\n",
              "\n",
              "    const fileDataPromise = new Promise((resolve) => {\n",
              "      const reader = new FileReader();\n",
              "      reader.onload = (e) => {\n",
              "        resolve(e.target.result);\n",
              "      };\n",
              "      reader.readAsArrayBuffer(file);\n",
              "    });\n",
              "    // Wait for the data to be ready.\n",
              "    let fileData = yield {\n",
              "      promise: fileDataPromise,\n",
              "      response: {\n",
              "        action: 'continue',\n",
              "      }\n",
              "    };\n",
              "\n",
              "    // Use a chunked sending to avoid message size limits. See b/62115660.\n",
              "    let position = 0;\n",
              "    do {\n",
              "      const length = Math.min(fileData.byteLength - position, MAX_PAYLOAD_SIZE);\n",
              "      const chunk = new Uint8Array(fileData, position, length);\n",
              "      position += length;\n",
              "\n",
              "      const base64 = btoa(String.fromCharCode.apply(null, chunk));\n",
              "      yield {\n",
              "        response: {\n",
              "          action: 'append',\n",
              "          file: file.name,\n",
              "          data: base64,\n",
              "        },\n",
              "      };\n",
              "\n",
              "      let percentDone = fileData.byteLength === 0 ?\n",
              "          100 :\n",
              "          Math.round((position / fileData.byteLength) * 100);\n",
              "      percent.textContent = `${percentDone}% done`;\n",
              "\n",
              "    } while (position < fileData.byteLength);\n",
              "  }\n",
              "\n",
              "  // All done.\n",
              "  yield {\n",
              "    response: {\n",
              "      action: 'complete',\n",
              "    }\n",
              "  };\n",
              "}\n",
              "\n",
              "scope.google = scope.google || {};\n",
              "scope.google.colab = scope.google.colab || {};\n",
              "scope.google.colab._files = {\n",
              "  _uploadFiles,\n",
              "  _uploadFilesContinue,\n",
              "};\n",
              "})(self);\n",
              "</script> "
            ]
          },
          "metadata": {}
        },
        {
          "output_type": "stream",
          "name": "stdout",
          "text": [
            "Saving mobile_legend.csv to mobile_legend (1).csv\n",
            "User uploaded file \"mobile_legend (1).csv\" with length 9393 bytes\n",
            "      Player_ID  TotalMatch  Winrate  HighestRank     Role     Category\n",
            "0     Tamara_91         754    57.03  grandmaster  Jungler      average\n",
            "1  Jennifer_757         368    77.83       legend  Jungler          pro\n",
            "2     Bryan.462         631    46.46       master   Roamer      average\n",
            "3  Jonathan_622         258    25.96      warrior  Jungler  dark system\n",
            "4    Nicole.881         372    67.19         epic  Jungler      average\n"
          ]
        }
      ],
      "source": [
        "import pandas as pd\n",
        "from google.colab import files\n",
        "\n",
        "uploaded = files.upload()\n",
        "\n",
        "for fn in uploaded.keys():\n",
        "  print('User uploaded file \"{name}\" with length {length} bytes'.format(\n",
        "      name=fn, length=len(uploaded[fn])))\n",
        "\n",
        "df = pd.read_csv(fn)\n",
        "print(df.head())"
      ]
    },
    {
      "cell_type": "code",
      "source": [
        "from sklearn.preprocessing import LabelEncoder\n",
        "\n",
        "# Data contoh role rank\n",
        "roles = [\"Explaner\", \"Goldlaner\", \"Jungler\", \"Midlaner\", \"Roamer\"]\n",
        "rank = [\"warrior\", \"elite\", \"master\", \"grandmaster\", \"epic\", \"legend\", \"mythic\"]\n",
        "# Data kategori skill yang digunakan untuk training\n",
        "skill_categories = ['pro', 'average', 'dark system']\n",
        "\n",
        "# Membuat LabelEncoder untuk kategori skill\n",
        "le_skill = LabelEncoder()\n",
        "le_skill.fit(skill_categories)  # Latih encoder pada data skill\n",
        "# Membuat LabelEncoder untuk role rank\n",
        "le_role = LabelEncoder()\n",
        "le_role.fit(roles)  # Melatih encoder pada data role rank\n",
        "le_rank = LabelEncoder()\n",
        "le_rank.fit(rank)\n",
        "\n",
        "# Encode data skill ke dalam angka\n",
        "encoded_skills = le_skill.transform(skill_categories)\n",
        "print(f\"Encoded skill categories: {encoded_skills}\")\n",
        "# Encode data roles rank ke dalam angka\n",
        "encoded_roles = le_role.transform(roles)\n",
        "print(f\"Encoded roles: {encoded_roles}\")\n",
        "encoded_rank = le_rank.transform(rank)\n",
        "print(f\"Encoded rank: {encoded_rank}\")\n"
      ],
      "metadata": {
        "colab": {
          "base_uri": "https://localhost:8080/"
        },
        "id": "o1-at1oR56Gv",
        "outputId": "016e2077-4b9b-49b1-dcf7-e9acb6f0f828"
      },
      "execution_count": 83,
      "outputs": [
        {
          "output_type": "stream",
          "name": "stdout",
          "text": [
            "Encoded roles: [0 1 2 3 4]\n",
            "Encoded rank: [6 0 4 2 1 3 5]\n",
            "Encoded skill categories: [2 0 1]\n"
          ]
        }
      ]
    },
    {
      "cell_type": "code",
      "source": [
        "# Menyusun fitur (X) dan target (y)\n",
        "X = df[['Role', 'Winrate', 'HighestRank', 'TotalMatch']]  # Fitur\n",
        "y = df['Category']  # Label (target)\n",
        "\n",
        "# Memisahkan data menjadi data pelatihan dan pengujian\n",
        "from sklearn.model_selection import train_test_split\n",
        "X_train, X_test, y_train, y_test = train_test_split(X, y, test_size=0.2, random_state=42)\n",
        "\n",
        "# Cek bentuk data pelatihan dan pengujian\n",
        "print(X_train.shape, X_test.shape)\n"
      ],
      "metadata": {
        "colab": {
          "base_uri": "https://localhost:8080/"
        },
        "id": "L99BuE0e6RYz",
        "outputId": "cfbbc3c9-58fb-4196-f8dd-eea75af180e1"
      },
      "execution_count": 84,
      "outputs": [
        {
          "output_type": "stream",
          "name": "stdout",
          "text": [
            "(160, 4) (40, 4)\n"
          ]
        }
      ]
    },
    {
      "cell_type": "code",
      "source": [
        "from sklearn.ensemble import RandomForestClassifier\n",
        "\n",
        "# Membuat dan melatih model\n",
        "model = RandomForestClassifier(n_estimators=100, random_state=42)\n",
        "model.fit(X_train, y_train)\n",
        "\n",
        "# Prediksi pada data uji\n",
        "y_pred = model.predict(X_test)\n",
        "\n",
        "# Evaluasi model\n",
        "from sklearn.metrics import accuracy_score, classification_report, confusion_matrix\n",
        "\n",
        "accuracy = accuracy_score(y_test, y_pred)\n",
        "conf_matrix = confusion_matrix(y_test, y_pred)\n",
        "class_report = classification_report(y_test, y_pred)\n",
        "\n",
        "# Menampilkan hasil evaluasi\n",
        "print(f\"Accuracy: {accuracy}\")\n",
        "print(\"Confusion Matrix:\")\n",
        "print(conf_matrix)\n",
        "print(\"Classification Report:\")\n",
        "print(class_report)\n"
      ],
      "metadata": {
        "colab": {
          "base_uri": "https://localhost:8080/"
        },
        "id": "a9Zkg4qU9IUg",
        "outputId": "c49642d7-8634-4dee-b1dc-dbbf22f6fa96"
      },
      "execution_count": 85,
      "outputs": [
        {
          "output_type": "stream",
          "name": "stdout",
          "text": [
            "Accuracy: 0.975\n",
            "Confusion Matrix:\n",
            "[[25  0  1]\n",
            " [ 0  7  0]\n",
            " [ 0  0  7]]\n",
            "Classification Report:\n",
            "              precision    recall  f1-score   support\n",
            "\n",
            "     average       1.00      0.96      0.98        26\n",
            " dark system       1.00      1.00      1.00         7\n",
            "         pro       0.88      1.00      0.93         7\n",
            "\n",
            "    accuracy                           0.97        40\n",
            "   macro avg       0.96      0.99      0.97        40\n",
            "weighted avg       0.98      0.97      0.98        40\n",
            "\n"
          ]
        }
      ]
    },
    {
      "cell_type": "code",
      "source": [
        "def predict_skill_category(role_input, win_rate, rank, total_matches):\n",
        "    # Mengecek validitas role dan encoding\n",
        "    if role_input not in le_role.classes_:\n",
        "        print(f\"Role '{role_input}' tidak valid. Pastikan role sudah tepat.\")\n",
        "        return None\n",
        "\n",
        "    # Encode role menjadi nilai numerik\n",
        "    role_encoded = le_role.transform([role_input])[0]\n",
        "\n",
        "    # Mengecek apakah Rank input valid\n",
        "    if rank not in le_rank.classes_:\n",
        "        print(\"Rank tidak valid. Silakan masukkan rank yang benar.\")\n",
        "        return None\n",
        "\n",
        "    rank_encoded = le_rank.transform([rank])[0]\n",
        "\n",
        "    # Menyiapkan data input untuk prediksi\n",
        "    input_data = [[role_encoded, win_rate, rank_encoded, total_matches]]\n",
        "\n",
        "    # Melakukan prediksi dengan model yang sudah dilatih\n",
        "    predicted_category_encoded = model.predict(input_data)\n",
        "\n",
        "    # Validasi label yang diprediksi sebelum inverse_transform\n",
        "    try:\n",
        "        predicted_category = le_skill.inverse_transform(predicted_category_encoded)\n",
        "        return predicted_category[0]\n",
        "    except ValueError:\n",
        "        print(f\"Label '{predicted_category_encoded[0]}' tidak valid, menggunakan label default 'dark system'.\")\n",
        "        return 'dark system'\n",
        "\n",
        "# Contoh inputan pengguna\n",
        "role_input = \"Explaner\"  # Input Role\n",
        "win_rate_input = 60  # Input Win Rate\n",
        "rank_input = \"master\"  # Input Rank\n",
        "total_matches_input = 120  # Input Total Matches\n",
        "\n",
        "# Hasil prediksi kategori skill\n",
        "predicted_skill = predict_skill_category(role_input, win_rate_input, rank_input, total_matches_input)\n",
        "if predicted_skill:\n",
        "    print(f\"Prediksi kategori skill pengguna adalah: {predicted_skill}\")\n"
      ],
      "metadata": {
        "colab": {
          "base_uri": "https://localhost:8080/"
        },
        "id": "omv_qE1OFQzH",
        "outputId": "836140d0-d50d-4acc-9c84-06a51c25991b"
      },
      "execution_count": 86,
      "outputs": [
        {
          "output_type": "stream",
          "name": "stdout",
          "text": [
            "Label 'average' tidak valid, menggunakan label default 'dark system'.\n",
            "Prediksi kategori skill pengguna adalah: dark system\n"
          ]
        },
        {
          "output_type": "stream",
          "name": "stderr",
          "text": [
            "/usr/local/lib/python3.10/dist-packages/sklearn/utils/validation.py:2739: UserWarning: X does not have valid feature names, but RandomForestClassifier was fitted with feature names\n",
            "  warnings.warn(\n"
          ]
        }
      ]
    }
  ]
}